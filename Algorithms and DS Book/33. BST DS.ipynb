{
 "cells": [
  {
   "cell_type": "code",
   "execution_count": 19,
   "metadata": {},
   "outputs": [],
   "source": [
    "class BSTree:\n",
    "    def __init__(self,rootVal):\n",
    "        self.left = None\n",
    "        self.right = None\n",
    "        self.key = rootVal\n",
    "    \n",
    "    def insert(self,data):\n",
    "        if data < self.key:\n",
    "            if self.left == None:\n",
    "                t = BSTree(data)\n",
    "                self.left = t\n",
    "            else:\n",
    "                self.left.insert(data)\n",
    "        else:\n",
    "            print('hello')\n",
    "            if self.right == None:\n",
    "                t = BSTree(data)\n",
    "                self.right = t\n",
    "            else:\n",
    "                self.right.insert(data)\n",
    "        \n",
    "    def inorder_traversal(self):\n",
    "        if self:\n",
    "            if self.left:\n",
    "                self.left.inorder_traversal()\n",
    "            print(self.key)\n",
    "            if self.right:\n",
    "                self.right.inorder_traversal()\n",
    "            \n",
    "        "
   ]
  },
  {
   "cell_type": "code",
   "execution_count": 21,
   "metadata": {},
   "outputs": [
    {
     "name": "stdout",
     "output_type": "stream",
     "text": [
      "hello\n",
      "3\n",
      "5\n",
      "7\n"
     ]
    }
   ],
   "source": [
    "root = BSTree(5)\n",
    "root.insert(7)\n",
    "root.insert(3)\n",
    "root.inorder_traversal()\n",
    "\n"
   ]
  }
 ],
 "metadata": {
  "kernelspec": {
   "display_name": "Python 3",
   "language": "python",
   "name": "python3"
  },
  "language_info": {
   "codemirror_mode": {
    "name": "ipython",
    "version": 3
   },
   "file_extension": ".py",
   "mimetype": "text/x-python",
   "name": "python",
   "nbconvert_exporter": "python",
   "pygments_lexer": "ipython3",
   "version": "3.6.3"
  }
 },
 "nbformat": 4,
 "nbformat_minor": 2
}
