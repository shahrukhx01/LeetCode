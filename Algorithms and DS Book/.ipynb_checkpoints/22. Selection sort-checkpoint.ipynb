{
 "cells": [
  {
   "cell_type": "code",
   "execution_count": 11,
   "metadata": {},
   "outputs": [],
   "source": [
    "def bubble_sort(alist):\n",
    "    for i in range(len(alist)-1):\n",
    "        index = i\n",
    "        for j in range(i,len(alist)):\n",
    "            if alist[j] < alist[index]:\n",
    "                index = j\n",
    "        print(alist[index])\n",
    "        temp = alist[i]\n",
    "        alist[i] = alist[index]\n",
    "        alist[index] = temp\n",
    "    return alist"
   ]
  },
  {
   "cell_type": "code",
   "execution_count": 12,
   "metadata": {},
   "outputs": [
    {
     "name": "stdout",
     "output_type": "stream",
     "text": [
      "1\n",
      "1\n",
      "2\n",
      "2\n",
      "4\n",
      "5\n",
      "22\n",
      "23\n",
      "33\n",
      "324\n",
      "432\n"
     ]
    },
    {
     "data": {
      "text/plain": [
       "[1, 1, 2, 2, 4, 5, 22, 23, 33, 324, 432, 543]"
      ]
     },
     "execution_count": 12,
     "metadata": {},
     "output_type": "execute_result"
    }
   ],
   "source": [
    "alist = [22,1,4,2,5,33,1,324,432,543,23,2]\n",
    "bubble_sort(alist)"
   ]
  }
 ],
 "metadata": {
  "kernelspec": {
   "display_name": "Python 3",
   "language": "python",
   "name": "python3"
  },
  "language_info": {
   "codemirror_mode": {
    "name": "ipython",
    "version": 3
   },
   "file_extension": ".py",
   "mimetype": "text/x-python",
   "name": "python",
   "nbconvert_exporter": "python",
   "pygments_lexer": "ipython3",
   "version": "3.6.3"
  }
 },
 "nbformat": 4,
 "nbformat_minor": 2
}
