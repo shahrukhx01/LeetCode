{
 "cells": [
  {
   "cell_type": "markdown",
   "metadata": {},
   "source": [
    "#### Write a program to solve the following problem: You have two jugs: a 4-gallon jug and a 3-gallon jug. Neither of the jugs have markings on them. There is a pump that can be used to fill the jugs with water. How can you get exactly two gallons of water in the 4-gallon jug?"
   ]
  },
  {
   "cell_type": "code",
   "execution_count": 10,
   "metadata": {},
   "outputs": [],
   "source": [
    "class Jug:\n",
    "    def  __init__(self,water_capacity):\n",
    "        self.water_level = 0\n",
    "        self.water_capacity = water_capacity\n",
    "        \n",
    "        def get_water_capacity(self):\n",
    "            return self.water_capacity\n",
    "        \n",
    "        def get_water_level(self):\n",
    "            return self.water_level\n",
    "        \n",
    "        def fill_jug(self):\n",
    "            self.water_level = self.water_capacity\n",
    "            \n",
    "        def pour_from_another_jug(self,jug):\n",
    "            if self.water_level + jug.water_level < self.water_capacity:\n",
    "                self.water_level = self.water_level + jug.water_level\n",
    "                jug.water_level = 0"
   ]
  },
  {
   "cell_type": "code",
   "execution_count": 27,
   "metadata": {},
   "outputs": [],
   "source": [
    "def gallon_problem(goal):\n",
    "    global jug1\n",
    "    global jug2\n",
    "    if jug1.water_capacity == goal:\n",
    "        return\n",
    "    else:\n",
    "        pour_from_another_jug(jug1,jug2)\n",
    "    gallon_problem(goal)\n",
    "        "
   ]
  },
  {
   "cell_type": "code",
   "execution_count": 25,
   "metadata": {},
   "outputs": [],
   "source": [
    "def pour_from_another_jug():\n",
    "            global jug1\n",
    "            global jug2\n",
    "            if jug2.water_level + jug1.water_level < jug2.water_capacity:\n",
    "                jug2.water_level = jug2.water_level + jug1.water_level\n",
    "                jug1.water_level = 0"
   ]
  },
  {
   "cell_type": "code",
   "execution_count": 28,
   "metadata": {},
   "outputs": [
    {
     "ename": "RecursionError",
     "evalue": "maximum recursion depth exceeded in comparison",
     "output_type": "error",
     "traceback": [
      "\u001b[0;31m---------------------------------------------------------------------------\u001b[0m",
      "\u001b[0;31mRecursionError\u001b[0m                            Traceback (most recent call last)",
      "\u001b[0;32m<ipython-input-28-c760c949b0a2>\u001b[0m in \u001b[0;36m<module>\u001b[0;34m()\u001b[0m\n\u001b[1;32m      1\u001b[0m \u001b[0mjug1\u001b[0m \u001b[0;34m=\u001b[0m \u001b[0mJug\u001b[0m\u001b[0;34m(\u001b[0m\u001b[0;36m4\u001b[0m\u001b[0;34m)\u001b[0m\u001b[0;34m\u001b[0m\u001b[0m\n\u001b[1;32m      2\u001b[0m \u001b[0mjug2\u001b[0m \u001b[0;34m=\u001b[0m \u001b[0mJug\u001b[0m\u001b[0;34m(\u001b[0m\u001b[0;36m3\u001b[0m\u001b[0;34m)\u001b[0m\u001b[0;34m\u001b[0m\u001b[0m\n\u001b[0;32m----> 3\u001b[0;31m \u001b[0mgallon_problem\u001b[0m\u001b[0;34m(\u001b[0m\u001b[0;36m2\u001b[0m\u001b[0;34m)\u001b[0m\u001b[0;34m\u001b[0m\u001b[0m\n\u001b[0m",
      "\u001b[0;32m<ipython-input-27-3dc48cee9e08>\u001b[0m in \u001b[0;36mgallon_problem\u001b[0;34m(goal)\u001b[0m\n\u001b[1;32m      6\u001b[0m     \u001b[0;32melse\u001b[0m\u001b[0;34m:\u001b[0m\u001b[0;34m\u001b[0m\u001b[0m\n\u001b[1;32m      7\u001b[0m         \u001b[0mpour_from_another_jug\u001b[0m\u001b[0;34m(\u001b[0m\u001b[0mjug1\u001b[0m\u001b[0;34m,\u001b[0m\u001b[0mjug2\u001b[0m\u001b[0;34m)\u001b[0m\u001b[0;34m\u001b[0m\u001b[0m\n\u001b[0;32m----> 8\u001b[0;31m     \u001b[0mgallon_problem\u001b[0m\u001b[0;34m(\u001b[0m\u001b[0mgoal\u001b[0m\u001b[0;34m)\u001b[0m\u001b[0;34m\u001b[0m\u001b[0m\n\u001b[0m\u001b[1;32m      9\u001b[0m \u001b[0;34m\u001b[0m\u001b[0m\n",
      "... last 1 frames repeated, from the frame below ...\n",
      "\u001b[0;32m<ipython-input-27-3dc48cee9e08>\u001b[0m in \u001b[0;36mgallon_problem\u001b[0;34m(goal)\u001b[0m\n\u001b[1;32m      6\u001b[0m     \u001b[0;32melse\u001b[0m\u001b[0;34m:\u001b[0m\u001b[0;34m\u001b[0m\u001b[0m\n\u001b[1;32m      7\u001b[0m         \u001b[0mpour_from_another_jug\u001b[0m\u001b[0;34m(\u001b[0m\u001b[0mjug1\u001b[0m\u001b[0;34m,\u001b[0m\u001b[0mjug2\u001b[0m\u001b[0;34m)\u001b[0m\u001b[0;34m\u001b[0m\u001b[0m\n\u001b[0;32m----> 8\u001b[0;31m     \u001b[0mgallon_problem\u001b[0m\u001b[0;34m(\u001b[0m\u001b[0mgoal\u001b[0m\u001b[0;34m)\u001b[0m\u001b[0;34m\u001b[0m\u001b[0m\n\u001b[0m\u001b[1;32m      9\u001b[0m \u001b[0;34m\u001b[0m\u001b[0m\n",
      "\u001b[0;31mRecursionError\u001b[0m: maximum recursion depth exceeded in comparison"
     ]
    }
   ],
   "source": [
    "jug1 = Jug(4)\n",
    "jug2 = Jug(3)\n",
    "gallon_problem(2)"
   ]
  }
 ],
 "metadata": {
  "kernelspec": {
   "display_name": "Python 3",
   "language": "python",
   "name": "python3"
  },
  "language_info": {
   "codemirror_mode": {
    "name": "ipython",
    "version": 3
   },
   "file_extension": ".py",
   "mimetype": "text/x-python",
   "name": "python",
   "nbconvert_exporter": "python",
   "pygments_lexer": "ipython3",
   "version": "3.6.3"
  }
 },
 "nbformat": 4,
 "nbformat_minor": 2
}
